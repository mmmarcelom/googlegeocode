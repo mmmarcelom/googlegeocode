{
 "cells": [
  {
   "cell_type": "code",
   "execution_count": 5,
   "metadata": {},
   "outputs": [],
   "source": [
    "GOOGLE_MAP_API_KEY = 'SUA API KEY'"
   ]
  },
  {
   "cell_type": "code",
   "execution_count": 60,
   "metadata": {},
   "outputs": [
    {
     "data": {
      "text/plain": [
       "37093"
      ]
     },
     "execution_count": 60,
     "metadata": {},
     "output_type": "execute_result"
    }
   ],
   "source": [
    "import csv\n",
    "\n",
    "ceps = []\n",
    "\n",
    "# Open CSV file and read in data\n",
    "with open('ceps.csv', 'r', encoding='UTF-8') as csv_file:\n",
    "    reader = csv.reader(csv_file, delimiter=',')\n",
    "    for row in reader:\n",
    "        ceps.append(row[0])\n",
    "\n",
    "ceps.pop(0)\n",
    "len(ceps)\n"
   ]
  },
  {
   "cell_type": "code",
   "execution_count": 74,
   "metadata": {},
   "outputs": [],
   "source": [
    "#!pip install requests\n",
    "\n",
    "import requests\n",
    "\n",
    "def buscar_cep(cep, google_maps_api_key):\n",
    "\n",
    "    geocoding_url = \"https://maps.googleapis.com/maps/api/geocode/json\"\n",
    "    geocoding_params = {\"address\": cep, \"key\": google_maps_api_key}\n",
    "    geocoding_response = requests.get(geocoding_url, params=geocoding_params).json()\n",
    "\n",
    "    if geocoding_response[\"status\"] != \"OK\": return [cep, '-', '-']\n",
    "    latitude = str(geocoding_response[\"results\"][0][\"geometry\"][\"location\"][\"lat\"])\n",
    "    longitude = str(geocoding_response[\"results\"][0][\"geometry\"][\"location\"][\"lng\"])\n",
    "\n",
    "    return [cep, latitude, longitude]"
   ]
  },
  {
   "cell_type": "code",
   "execution_count": 61,
   "metadata": {},
   "outputs": [],
   "source": [
    "def salvar(rows, filename):\n",
    "    with open(filename, 'a',  encoding='UTF-8',  newline='') as f:\n",
    "        writer = csv.writer(f, delimiter =';')\n",
    "        for row in rows:\n",
    "            writer.writerow(row)"
   ]
  },
  {
   "cell_type": "code",
   "execution_count": 75,
   "metadata": {},
   "outputs": [],
   "source": [
    "import time\n",
    "\n",
    "resultados = []\n",
    "errors = []\n",
    "i = 0\n",
    "\n",
    "for cep in ceps[100:]:\n",
    "    time.sleep(0.5)\n",
    "    \n",
    "    if i % 100 == 0: salvar(resultados[-100:], 'resultados2.csv')\n",
    "    \n",
    "    try:\n",
    "        resultados.append(buscar_cep(cep, GOOGLE_MAP_API_KEY))\n",
    "    except Exception as e:\n",
    "        erro = [cep, type(e).__name__]\n",
    "        salvar(erro, 'erros.csv')\n",
    "        errors.append(erro)\n",
    "    \n",
    "    i+=1"
   ]
  }
 ],
 "metadata": {
  "kernelspec": {
   "display_name": "venv",
   "language": "python",
   "name": "python3"
  },
  "language_info": {
   "codemirror_mode": {
    "name": "ipython",
    "version": 3
   },
   "file_extension": ".py",
   "mimetype": "text/x-python",
   "name": "python",
   "nbconvert_exporter": "python",
   "pygments_lexer": "ipython3",
   "version": "3.11.1"
  },
  "orig_nbformat": 4
 },
 "nbformat": 4,
 "nbformat_minor": 2
}
